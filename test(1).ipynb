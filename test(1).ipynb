{
 "cells": [
  {
   "cell_type": "code",
   "execution_count": 3,
   "id": "de617070",
   "metadata": {},
   "outputs": [
    {
     "ename": "NameError",
     "evalue": "name 'aacuser' is not defined",
     "output_type": "error",
     "traceback": [
      "\u001b[0;31m---------------------------------------------------------------------------\u001b[0m",
      "\u001b[0;31mNameError\u001b[0m                                 Traceback (most recent call last)",
      "Input \u001b[0;32mIn [3]\u001b[0m, in \u001b[0;36m<cell line: 18>\u001b[0;34m()\u001b[0m\n\u001b[1;32m     15\u001b[0m search \u001b[38;5;241m=\u001b[39m {\u001b[38;5;124m\"\u001b[39m\u001b[38;5;124manimal_id\u001b[39m\u001b[38;5;124m\"\u001b[39m: \u001b[38;5;124m\"\u001b[39m\u001b[38;5;124m000001\u001b[39m\u001b[38;5;124m\"\u001b[39m}\n\u001b[1;32m     17\u001b[0m \u001b[38;5;66;03m# instantiate an object of AnimalShelter class\u001b[39;00m\n\u001b[0;32m---> 18\u001b[0m assignment \u001b[38;5;241m=\u001b[39m AnimalShelter(\u001b[43maacuser\u001b[49m, password)\n\u001b[1;32m     20\u001b[0m \u001b[38;5;66;03m# call the create method\u001b[39;00m\n\u001b[1;32m     21\u001b[0m entry \u001b[38;5;241m=\u001b[39m assignment\u001b[38;5;241m.\u001b[39mcreate(data)\n",
      "\u001b[0;31mNameError\u001b[0m: name 'aacuser' is not defined"
     ]
    }
   ],
   "source": [
    "# import AnimalShelter class from animal_shelter\n",
    "from animal_shelter import AnimalShelter\n",
    "\n",
    "# define data\n",
    "data = {\"animal_id\":\"000001\",\n",
    "       \"animal_type\": \"Dog\",\n",
    "       \"breed\": \"Pitbull\",\n",
    "       \"name\": \"Loki\",\n",
    "       \"age\": \"1 year\",\n",
    "       \"color\":\"Fawn\",\n",
    "       \"status\": \"Transfer\",\n",
    "       \"vax_status\" :\"Current\"}\n",
    "\n",
    "# define search criteria\n",
    "search = {\"animal_id\": \"000001\"}\n",
    "\n",
    "# instantiate an object of AnimalShelter class\n",
    "assignment = AnimalShelter(aacuser, password)\n",
    "\n",
    "# call the create method\n",
    "entry = assignment.create(data)\n",
    "print(entry)\n",
    "\n",
    "# call the read method\n",
    "entry = assignment.read(search)\n",
    "for assignment in entry:\n",
    "    print(assignment)\n",
    "    \n",
    "# call the update method\n",
    "entry = assignment.update(search, {\"status\": \"adopted\"})\n",
    "print(entry)\n",
    "\n",
    "# call the delete method\n",
    "entry = assignment.delete({\"name\" :\"Loki\"})\n",
    "print(entry)"
   ]
  },
  {
   "cell_type": "code",
   "execution_count": null,
   "id": "e8722b30",
   "metadata": {},
   "outputs": [],
   "source": []
  },
  {
   "cell_type": "code",
   "execution_count": null,
   "id": "aabdd12d",
   "metadata": {},
   "outputs": [],
   "source": []
  },
  {
   "cell_type": "code",
   "execution_count": null,
   "id": "d078abfe",
   "metadata": {},
   "outputs": [],
   "source": []
  },
  {
   "cell_type": "code",
   "execution_count": null,
   "id": "f61744cc",
   "metadata": {},
   "outputs": [],
   "source": []
  },
  {
   "cell_type": "code",
   "execution_count": null,
   "id": "28f7a224",
   "metadata": {},
   "outputs": [],
   "source": []
  }
 ],
 "metadata": {
  "kernelspec": {
   "display_name": "Python [conda env:root] *",
   "language": "python",
   "name": "conda-root-py"
  },
  "language_info": {
   "codemirror_mode": {
    "name": "ipython",
    "version": 3
   },
   "file_extension": ".py",
   "mimetype": "text/x-python",
   "name": "python",
   "nbconvert_exporter": "python",
   "pygments_lexer": "ipython3",
   "version": "3.9.12"
  }
 },
 "nbformat": 4,
 "nbformat_minor": 5
}
